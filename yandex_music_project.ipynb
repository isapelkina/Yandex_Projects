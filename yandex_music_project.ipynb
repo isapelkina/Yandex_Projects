{
 "cells": [
  {
   "cell_type": "markdown",
   "id": "9e940881",
   "metadata": {},
   "source": [
    "#  Data Science Project - Yandex Music"
   ]
  },
  {
   "cell_type": "markdown",
   "id": "333d0544",
   "metadata": {},
   "source": [
    "## 1. Project Description"
   ]
  },
  {
   "cell_type": "markdown",
   "id": "e8843345",
   "metadata": {},
   "source": [
    "**Research Purpose:** Using Yandex Music data, compare the behavior of users in the two capitals."
   ]
  },
  {
   "cell_type": "markdown",
   "id": "8959c777",
   "metadata": {},
   "source": [
    "Moscow and St. Petersburg are usually perceived in different ways. For example:\n",
    "* Moscow is a metropolis subjected to the harsh rhythm of the workweek;\n",
    "* St. Petersburg is a cultural capital with its own tastes.\n",
    "\n",
    "Test three hypotheses:\n",
    "1. User activity depends on the day of the week, and this manifests differently in Moscow and St. Petersburg.\n",
    "2. On Monday mornings, different genres prevail in Moscow and St. Petersburg. The same goes for Friday evenings, with different dominant genres depending on the city.\n",
    "3. Moscow and St. Petersburg prefer different music genres. Moscow tends to listen to pop music more often, while in St. Petersburg, Russian rap is more popular.\n",
    "\n",
    "Research Steps:\n",
    "\n",
    "- Obtain user behavior data from the `yandex_music_project.csv` file. The quality of the data is unkown. Therefore, before testing hypotheses, a data overview is necessary\n",
    "- Check the data for errors and assess their impact\n",
    "- Correct the most critical data errors\n",
    "- Draw a conclusion"
   ]
  },
  {
   "cell_type": "markdown",
   "id": "7fde7c97",
   "metadata": {},
   "source": [
    "# 2. Data Description \n",
    "\n",
    "The data is stored in the file `yandex_music_project.csv`\n",
    "\n",
    "**Column Description:**\n",
    "\n",
    "* `userID` - user identifier;\n",
    "* `Track` - track name;\n",
    "* `artist` - artist name;\n",
    "* `genre` - genre name;\n",
    "* `City` - user's city;\n",
    "* `time` - start time of listening;\n",
    "* `Day` - day of the week."
   ]
  },
  {
   "cell_type": "markdown",
   "id": "b6684c1c",
   "metadata": {},
   "source": [
    "## 3. Data Overview"
   ]
  },
  {
   "cell_type": "code",
   "execution_count": 1,
   "id": "60cc0103",
   "metadata": {},
   "outputs": [],
   "source": [
    "# Import the pandas library\n",
    "import pandas as pd"
   ]
  },
  {
   "cell_type": "code",
   "execution_count": 2,
   "id": "c8b35c5a",
   "metadata": {},
   "outputs": [],
   "source": [
    "# Reading the data file and saving it to a DataFrame (df)\n",
    "df = pd.read_csv('yandex_music_project.csv')"
   ]
  },
  {
   "cell_type": "code",
   "execution_count": 3,
   "id": "5fbabcfb",
   "metadata": {},
   "outputs": [
    {
     "data": {
      "text/html": [
       "<div>\n",
       "<style scoped>\n",
       "    .dataframe tbody tr th:only-of-type {\n",
       "        vertical-align: middle;\n",
       "    }\n",
       "\n",
       "    .dataframe tbody tr th {\n",
       "        vertical-align: top;\n",
       "    }\n",
       "\n",
       "    .dataframe thead th {\n",
       "        text-align: right;\n",
       "    }\n",
       "</style>\n",
       "<table border=\"1\" class=\"dataframe\">\n",
       "  <thead>\n",
       "    <tr style=\"text-align: right;\">\n",
       "      <th></th>\n",
       "      <th>userID</th>\n",
       "      <th>Track</th>\n",
       "      <th>artist</th>\n",
       "      <th>genre</th>\n",
       "      <th>City</th>\n",
       "      <th>time</th>\n",
       "      <th>Day</th>\n",
       "    </tr>\n",
       "  </thead>\n",
       "  <tbody>\n",
       "    <tr>\n",
       "      <th>0</th>\n",
       "      <td>FFB692EC</td>\n",
       "      <td>Kamigata To Boots</td>\n",
       "      <td>The Mass Missile</td>\n",
       "      <td>rock</td>\n",
       "      <td>Saint-Petersburg</td>\n",
       "      <td>20:28:33</td>\n",
       "      <td>Wednesday</td>\n",
       "    </tr>\n",
       "    <tr>\n",
       "      <th>1</th>\n",
       "      <td>55204538</td>\n",
       "      <td>Delayed Because of Accident</td>\n",
       "      <td>Andreas Rönnberg</td>\n",
       "      <td>rock</td>\n",
       "      <td>Moscow</td>\n",
       "      <td>14:07:09</td>\n",
       "      <td>Friday</td>\n",
       "    </tr>\n",
       "    <tr>\n",
       "      <th>2</th>\n",
       "      <td>20EC38</td>\n",
       "      <td>Funiculì funiculà</td>\n",
       "      <td>Mario Lanza</td>\n",
       "      <td>pop</td>\n",
       "      <td>Saint-Petersburg</td>\n",
       "      <td>20:58:07</td>\n",
       "      <td>Wednesday</td>\n",
       "    </tr>\n",
       "    <tr>\n",
       "      <th>3</th>\n",
       "      <td>A3DD03C9</td>\n",
       "      <td>Dragons in the Sunset</td>\n",
       "      <td>Fire + Ice</td>\n",
       "      <td>folk</td>\n",
       "      <td>Saint-Petersburg</td>\n",
       "      <td>08:37:09</td>\n",
       "      <td>Monday</td>\n",
       "    </tr>\n",
       "    <tr>\n",
       "      <th>4</th>\n",
       "      <td>E2DC1FAE</td>\n",
       "      <td>Soul People</td>\n",
       "      <td>Space Echo</td>\n",
       "      <td>dance</td>\n",
       "      <td>Moscow</td>\n",
       "      <td>08:34:34</td>\n",
       "      <td>Monday</td>\n",
       "    </tr>\n",
       "    <tr>\n",
       "      <th>5</th>\n",
       "      <td>842029A1</td>\n",
       "      <td>Преданная</td>\n",
       "      <td>IMPERVTOR</td>\n",
       "      <td>rusrap</td>\n",
       "      <td>Saint-Petersburg</td>\n",
       "      <td>13:09:41</td>\n",
       "      <td>Friday</td>\n",
       "    </tr>\n",
       "    <tr>\n",
       "      <th>6</th>\n",
       "      <td>4CB90AA5</td>\n",
       "      <td>True</td>\n",
       "      <td>Roman Messer</td>\n",
       "      <td>dance</td>\n",
       "      <td>Moscow</td>\n",
       "      <td>13:00:07</td>\n",
       "      <td>Wednesday</td>\n",
       "    </tr>\n",
       "    <tr>\n",
       "      <th>7</th>\n",
       "      <td>F03E1C1F</td>\n",
       "      <td>Feeling This Way</td>\n",
       "      <td>Polina Griffith</td>\n",
       "      <td>dance</td>\n",
       "      <td>Moscow</td>\n",
       "      <td>20:47:49</td>\n",
       "      <td>Wednesday</td>\n",
       "    </tr>\n",
       "    <tr>\n",
       "      <th>8</th>\n",
       "      <td>8FA1D3BE</td>\n",
       "      <td>И вновь продолжается бой</td>\n",
       "      <td>NaN</td>\n",
       "      <td>ruspop</td>\n",
       "      <td>Moscow</td>\n",
       "      <td>09:17:40</td>\n",
       "      <td>Friday</td>\n",
       "    </tr>\n",
       "    <tr>\n",
       "      <th>9</th>\n",
       "      <td>E772D5C0</td>\n",
       "      <td>Pessimist</td>\n",
       "      <td>NaN</td>\n",
       "      <td>dance</td>\n",
       "      <td>Saint-Petersburg</td>\n",
       "      <td>21:20:49</td>\n",
       "      <td>Wednesday</td>\n",
       "    </tr>\n",
       "  </tbody>\n",
       "</table>\n",
       "</div>"
      ],
      "text/plain": [
       "     userID                        Track            artist   genre  \\\n",
       "0  FFB692EC            Kamigata To Boots  The Mass Missile    rock   \n",
       "1  55204538  Delayed Because of Accident  Andreas Rönnberg    rock   \n",
       "2    20EC38            Funiculì funiculà       Mario Lanza     pop   \n",
       "3  A3DD03C9        Dragons in the Sunset        Fire + Ice    folk   \n",
       "4  E2DC1FAE                  Soul People        Space Echo   dance   \n",
       "5  842029A1                    Преданная         IMPERVTOR  rusrap   \n",
       "6  4CB90AA5                         True      Roman Messer   dance   \n",
       "7  F03E1C1F             Feeling This Way   Polina Griffith   dance   \n",
       "8  8FA1D3BE     И вновь продолжается бой               NaN  ruspop   \n",
       "9  E772D5C0                    Pessimist               NaN   dance   \n",
       "\n",
       "             City        time        Day  \n",
       "0  Saint-Petersburg  20:28:33  Wednesday  \n",
       "1            Moscow  14:07:09     Friday  \n",
       "2  Saint-Petersburg  20:58:07  Wednesday  \n",
       "3  Saint-Petersburg  08:37:09     Monday  \n",
       "4            Moscow  08:34:34     Monday  \n",
       "5  Saint-Petersburg  13:09:41     Friday  \n",
       "6            Moscow  13:00:07  Wednesday  \n",
       "7            Moscow  20:47:49  Wednesday  \n",
       "8            Moscow  09:17:40     Friday  \n",
       "9  Saint-Petersburg  21:20:49  Wednesday  "
      ]
     },
     "execution_count": 3,
     "metadata": {},
     "output_type": "execute_result"
    }
   ],
   "source": [
    "# Display the first ten rows of the table on the screen:\n",
    "df.head(10)"
   ]
  },
  {
   "cell_type": "code",
   "execution_count": 4,
   "id": "76fe8796",
   "metadata": {},
   "outputs": [
    {
     "name": "stdout",
     "output_type": "stream",
     "text": [
      "<class 'pandas.core.frame.DataFrame'>\n",
      "RangeIndex: 65079 entries, 0 to 65078\n",
      "Data columns (total 7 columns):\n",
      " #   Column    Non-Null Count  Dtype \n",
      "---  ------    --------------  ----- \n",
      " 0     userID  65079 non-null  object\n",
      " 1   Track     63848 non-null  object\n",
      " 2   artist    57876 non-null  object\n",
      " 3   genre     63881 non-null  object\n",
      " 4     City    65079 non-null  object\n",
      " 5   time      65079 non-null  object\n",
      " 6   Day       65079 non-null  object\n",
      "dtypes: object(7)\n",
      "memory usage: 3.5+ MB\n"
     ]
    }
   ],
   "source": [
    "# Obtain general information about the table with a single command using the info() method:\n",
    "df.info()"
   ]
  },
  {
   "cell_type": "markdown",
   "id": "ada8dc48",
   "metadata": {},
   "source": [
    "#### 3.1 Summary\n",
    "\n",
    "1.  The table consists of seven columns, and all columns have the `object` data type. However, the number of values in each column varies, indicating the presence of missing data.\n",
    "2.  Each row in the table provides details about a listened track. Specific columns offer information about the composition, including its title, artist, and genre. \n",
    "3.  Additional columns offer insights into the user, such as their city and the time of music playback.\n",
    "4.  While the existing data appears adequate for hypothesis testing, there are challenges that require attention. Missing values are evident in the dataset, and there are style discrepancies in column names that deviate from recommended data presentation practices.\n",
    "5.  The column names exhibit style violations, including:\n",
    "  - Mixed case: The column names \"Track\" and \"genre\" use a combination of upper and lower case letters.\n",
    "  - Spaces: The column name \"time\" contains a space.\n",
    "6. Addressing and resolving these data issues is crucial to advance in the analysis"
   ]
  },
  {
   "cell_type": "markdown",
   "id": "3de2e0b2",
   "metadata": {},
   "source": [
    "## 4. Data Preprocessing"
   ]
  },
  {
   "cell_type": "markdown",
   "id": "7acacb7b",
   "metadata": {},
   "source": [
    "- Correct the style in column headers\n",
    "- Eliminate missing values\n",
    "- Check for duplicates"
   ]
  },
  {
   "cell_type": "markdown",
   "id": "3fefe7c7",
   "metadata": {},
   "source": [
    "### 4.1 Correct the style in column headers"
   ]
  },
  {
   "cell_type": "code",
   "execution_count": 5,
   "id": "b12354f2",
   "metadata": {},
   "outputs": [
    {
     "data": {
      "text/plain": [
       "Index(['  userID', 'Track', 'artist', 'genre', '  City  ', 'time', 'Day'], dtype='object')"
      ]
     },
     "execution_count": 5,
     "metadata": {},
     "output_type": "execute_result"
    }
   ],
   "source": [
    "# List of column names in the df table\n",
    "df.columns"
   ]
  },
  {
   "cell_type": "markdown",
   "id": "31ff5529",
   "metadata": {},
   "source": [
    "Bring the names in line with good style:\n",
    "- Write several words in the name in \"snake_case\";\n",
    "- Make all symbols lowercase;\n",
    "- Eliminate spaces."
   ]
  },
  {
   "cell_type": "markdown",
   "id": "9ae05461",
   "metadata": {},
   "source": [
    "Rename the columns as follows:\n",
    "- ' userID' → 'user_id';\n",
    "- 'Track' → 'track';\n",
    "- ' City ' → 'city';\n",
    "- 'Day' → 'day'."
   ]
  },
  {
   "cell_type": "code",
   "execution_count": 6,
   "id": "6cf43aa7",
   "metadata": {},
   "outputs": [],
   "source": [
    "# Renaming columns\n",
    "df = df.rename(columns={'  userID': 'user_id', 'Track': 'track', '  City  ': 'city', 'Day': 'day'}) "
   ]
  },
  {
   "cell_type": "code",
   "execution_count": 7,
   "id": "a19f9549",
   "metadata": {},
   "outputs": [
    {
     "data": {
      "text/plain": [
       "Index(['user_id', 'track', 'artist', 'genre', 'city', 'time', 'day'], dtype='object')"
      ]
     },
     "execution_count": 7,
     "metadata": {},
     "output_type": "execute_result"
    }
   ],
   "source": [
    "# Checking the results - list of column names\n",
    "df.columns"
   ]
  },
  {
   "cell_type": "markdown",
   "id": "06d11271",
   "metadata": {},
   "source": [
    "### 4.2 Eliminate missing values"
   ]
  },
  {
   "cell_type": "markdown",
   "id": "ef5ae10a",
   "metadata": {},
   "source": [
    "Calculate how many missing values are in the table"
   ]
  },
  {
   "cell_type": "code",
   "execution_count": 8,
   "id": "c2fcc7bc",
   "metadata": {},
   "outputs": [
    {
     "data": {
      "text/plain": [
       "user_id       0\n",
       "track      1231\n",
       "artist     7203\n",
       "genre      1198\n",
       "city          0\n",
       "time          0\n",
       "day           0\n",
       "dtype: int64"
      ]
     },
     "execution_count": 8,
     "metadata": {},
     "output_type": "execute_result"
    }
   ],
   "source": [
    "# Counting missing values\n",
    "df.isnull().sum()"
   ]
  },
  {
   "cell_type": "markdown",
   "id": "68ca2c5f",
   "metadata": {},
   "source": [
    "Not every missing value significantly impacts the research. For exemple, in the 'track' and 'artist' columns, the absence of data is inconsequential for the analysis, and it suffices to replace them with explicit labels.\n",
    "\n",
    "However, the missing values in the 'genre' column could hinder the comparison of musical tastes between Moscow and St. Petersburg. In a real-world scenario, it would be ideal to identify the cause of these gaps and restore the data. Unfortunately, such an option is not available in this project. As a workaround:\n",
    "\n",
    "1. Fill in these missing values with explicit labels.\n",
    "2. Assess the extent to which they might impact the calculations."
   ]
  },
  {
   "cell_type": "markdown",
   "id": "b4266008",
   "metadata": {},
   "source": [
    "Replace missing values in the `track`, `artist`, and `genre` columns with the string `unknown`:\n",
    "- create a list named 'columns_to_replace'\n",
    "- iterate through its elements using a for loop\n",
    "- for each column, perform the replacement of missing values"
   ]
  },
  {
   "cell_type": "code",
   "execution_count": 9,
   "id": "9d2dbeb3",
   "metadata": {},
   "outputs": [],
   "source": [
    "# Iterating through column names in a loop and replacing missing values with 'unknown'\n",
    "columns_to_replace = ['track', 'artist', 'genre']\n",
    "for column in columns_to_replace:\n",
    "    df['track'] = df['track'].fillna('unknown')\n",
    "    df['artist'] = df['artist'].fillna('unknown')\n",
    "    df['genre'] = df['genre'].fillna('unknown')"
   ]
  },
  {
   "cell_type": "code",
   "execution_count": 10,
   "id": "53b029ae",
   "metadata": {},
   "outputs": [
    {
     "data": {
      "text/plain": [
       "user_id    0\n",
       "track      0\n",
       "artist     0\n",
       "genre      0\n",
       "city       0\n",
       "time       0\n",
       "day        0\n",
       "dtype: int64"
      ]
     },
     "execution_count": 10,
     "metadata": {},
     "output_type": "execute_result"
    }
   ],
   "source": [
    "# Recalculate the missing value again to make sure there are no missing values left in the table\n",
    "df.isnull().sum()"
   ]
  },
  {
   "cell_type": "markdown",
   "id": "52d63aac",
   "metadata": {},
   "source": [
    "### 4.3 Check for Duplicates"
   ]
  },
  {
   "cell_type": "code",
   "execution_count": 11,
   "id": "2643bc36",
   "metadata": {},
   "outputs": [
    {
     "data": {
      "text/plain": [
       "3826"
      ]
     },
     "execution_count": 11,
     "metadata": {},
     "output_type": "execute_result"
    }
   ],
   "source": [
    "# Counting explicit duplicates\n",
    "df.duplicated().sum()"
   ]
  },
  {
   "cell_type": "code",
   "execution_count": 12,
   "id": "9da3256b",
   "metadata": {},
   "outputs": [],
   "source": [
    "# Removing explicit duplicates\n",
    "df = df.drop_duplicates()"
   ]
  },
  {
   "cell_type": "code",
   "execution_count": 13,
   "id": "b573f029",
   "metadata": {},
   "outputs": [
    {
     "data": {
      "text/plain": [
       "0"
      ]
     },
     "execution_count": 13,
     "metadata": {},
     "output_type": "execute_result"
    }
   ],
   "source": [
    "# Checking for the absence of duplicates\n",
    "df.duplicated().sum()"
   ]
  },
  {
   "cell_type": "markdown",
   "id": "57a37aab",
   "metadata": {},
   "source": [
    "Eliminate implicit duplicates in the 'genre' column. For example, the name of the same genre might be recorded slightly differently. Such errors can also affect the research results.\n",
    "\n",
    "Display on the screen a list of unique genre names sorted in alphabetical order:\n",
    "- Extract the required column from the dataframe\n",
    "- Apply a sorting method to it\n",
    "- For the sorted column, call a method that returns unique values from the column"
   ]
  },
  {
   "cell_type": "code",
   "execution_count": 14,
   "id": "9d1f1ff5",
   "metadata": {},
   "outputs": [
    {
     "data": {
      "text/plain": [
       "array(['acid', 'acoustic', 'action', 'adult', 'africa', 'afrikaans',\n",
       "       'alternative', 'alternativepunk', 'ambient', 'americana',\n",
       "       'animated', 'anime', 'arabesk', 'arabic', 'arena',\n",
       "       'argentinetango', 'art', 'audiobook', 'author', 'avantgarde',\n",
       "       'axé', 'baile', 'balkan', 'beats', 'bigroom', 'black', 'bluegrass',\n",
       "       'blues', 'bollywood', 'bossa', 'brazilian', 'breakbeat', 'breaks',\n",
       "       'broadway', 'cantautori', 'cantopop', 'canzone', 'caribbean',\n",
       "       'caucasian', 'celtic', 'chamber', 'chanson', 'children', 'chill',\n",
       "       'chinese', 'choral', 'christian', 'christmas', 'classical',\n",
       "       'classicmetal', 'club', 'colombian', 'comedy', 'conjazz',\n",
       "       'contemporary', 'country', 'cuban', 'dance', 'dancehall',\n",
       "       'dancepop', 'dark', 'death', 'deep', 'deutschrock', 'deutschspr',\n",
       "       'dirty', 'disco', 'dnb', 'documentary', 'downbeat', 'downtempo',\n",
       "       'drum', 'dub', 'dubstep', 'eastern', 'easy', 'electronic',\n",
       "       'electropop', 'emo', 'entehno', 'epicmetal', 'estrada', 'ethnic',\n",
       "       'eurofolk', 'european', 'experimental', 'extrememetal', 'fado',\n",
       "       'fairytail', 'film', 'fitness', 'flamenco', 'folk', 'folklore',\n",
       "       'folkmetal', 'folkrock', 'folktronica', 'forró', 'frankreich',\n",
       "       'französisch', 'french', 'funk', 'future', 'gangsta', 'garage',\n",
       "       'german', 'ghazal', 'gitarre', 'glitch', 'gospel', 'gothic',\n",
       "       'grime', 'grunge', 'gypsy', 'handsup', \"hard'n'heavy\", 'hardcore',\n",
       "       'hardstyle', 'hardtechno', 'hip', 'hip-hop', 'hiphop',\n",
       "       'historisch', 'holiday', 'hop', 'horror', 'house', 'hymn', 'idm',\n",
       "       'independent', 'indian', 'indie', 'indipop', 'industrial',\n",
       "       'inspirational', 'instrumental', 'international', 'irish', 'jam',\n",
       "       'japanese', 'jazz', 'jewish', 'jpop', 'jungle', 'k-pop',\n",
       "       'karadeniz', 'karaoke', 'kayokyoku', 'korean', 'laiko', 'latin',\n",
       "       'latino', 'leftfield', 'local', 'lounge', 'loungeelectronic',\n",
       "       'lovers', 'malaysian', 'mandopop', 'marschmusik', 'meditative',\n",
       "       'mediterranean', 'melodic', 'metal', 'metalcore', 'mexican',\n",
       "       'middle', 'minimal', 'miscellaneous', 'modern', 'mood', 'mpb',\n",
       "       'muslim', 'native', 'neoklassik', 'neue', 'new', 'newage',\n",
       "       'newwave', 'nu', 'nujazz', 'numetal', 'oceania', 'old', 'opera',\n",
       "       'orchestral', 'other', 'piano', 'podcasts', 'pop', 'popdance',\n",
       "       'popelectronic', 'popeurodance', 'poprussian', 'post',\n",
       "       'posthardcore', 'postrock', 'power', 'progmetal', 'progressive',\n",
       "       'psychedelic', 'punjabi', 'punk', 'quebecois', 'ragga', 'ram',\n",
       "       'rancheras', 'rap', 'rave', 'reggae', 'reggaeton', 'regional',\n",
       "       'relax', 'religious', 'retro', 'rhythm', 'rnb', 'rnr', 'rock',\n",
       "       'rockabilly', 'rockalternative', 'rockindie', 'rockother',\n",
       "       'romance', 'roots', 'ruspop', 'rusrap', 'rusrock', 'russian',\n",
       "       'salsa', 'samba', 'scenic', 'schlager', 'self', 'sertanejo',\n",
       "       'shanson', 'shoegazing', 'showtunes', 'singer', 'ska', 'skarock',\n",
       "       'slow', 'smooth', 'soft', 'soul', 'soulful', 'sound', 'soundtrack',\n",
       "       'southern', 'specialty', 'speech', 'spiritual', 'sport',\n",
       "       'stonerrock', 'surf', 'swing', 'synthpop', 'synthrock',\n",
       "       'sängerportrait', 'tango', 'tanzorchester', 'taraftar', 'tatar',\n",
       "       'tech', 'techno', 'teen', 'thrash', 'top', 'traditional',\n",
       "       'tradjazz', 'trance', 'tribal', 'trip', 'triphop', 'tropical',\n",
       "       'türk', 'türkçe', 'ukrrock', 'unknown', 'urban', 'uzbek',\n",
       "       'variété', 'vi', 'videogame', 'vocal', 'western', 'world',\n",
       "       'worldbeat', 'ïîï', 'электроника'], dtype=object)"
      ]
     },
     "execution_count": 14,
     "metadata": {},
     "output_type": "execute_result"
    }
   ],
   "source": [
    "# Viewing unique genre names\n",
    "sorted_values_list = df['genre']\n",
    "\n",
    "sorted_values_list.sort_values().unique()"
   ]
  },
  {
   "cell_type": "markdown",
   "id": "0b1d992e",
   "metadata": {},
   "source": [
    "Review the list and identify implicit duplicates of the 'hiphop' genre name. These could be names with errors or alternative names for the same genre.\n",
    "\n",
    "There are the following implicit duplicates:\n",
    "- hip,\n",
    "- hop,\n",
    "- hip-hop.\n",
    "\n",
    "To clean the table, use the replace() method with two arguments: \n",
    "- a list of duplicate strings (including hip, hop, and hip-hop)\n",
    "- a string with the correct value. \n",
    "\n",
    "To correct the 'genre' column in the df table: replace each value from the list of duplicates with the correct one. Instead of hip, hop, and hip-hop, the table should have the value 'hiphop'."
   ]
  },
  {
   "cell_type": "code",
   "execution_count": 15,
   "id": "15c64b3c",
   "metadata": {},
   "outputs": [],
   "source": [
    "# Removing implicit duplicates\n",
    "df['genre'] = df['genre'].replace('hip', 'hiphop')\n",
    "df['genre'] = df['genre'].replace('hop', 'hiphop')\n",
    "df['genre'] = df['genre'].replace('hip-hop', 'hiphop')"
   ]
  },
  {
   "cell_type": "markdown",
   "id": "3a8e9a68",
   "metadata": {},
   "source": [
    "Ensure that incorrect genre names have been successfully replaced:\n",
    "- hip,\n",
    "- hop,\n",
    "- hip-hop.  "
   ]
  },
  {
   "cell_type": "markdown",
   "id": "7b5826ba",
   "metadata": {},
   "source": [
    "Display the sorted list of unique values in the 'genre' column:"
   ]
  },
  {
   "cell_type": "code",
   "execution_count": 16,
   "id": "b3158d95",
   "metadata": {},
   "outputs": [
    {
     "data": {
      "text/plain": [
       "array(['acid', 'acoustic', 'action', 'adult', 'africa', 'afrikaans',\n",
       "       'alternative', 'alternativepunk', 'ambient', 'americana',\n",
       "       'animated', 'anime', 'arabesk', 'arabic', 'arena',\n",
       "       'argentinetango', 'art', 'audiobook', 'author', 'avantgarde',\n",
       "       'axé', 'baile', 'balkan', 'beats', 'bigroom', 'black', 'bluegrass',\n",
       "       'blues', 'bollywood', 'bossa', 'brazilian', 'breakbeat', 'breaks',\n",
       "       'broadway', 'cantautori', 'cantopop', 'canzone', 'caribbean',\n",
       "       'caucasian', 'celtic', 'chamber', 'chanson', 'children', 'chill',\n",
       "       'chinese', 'choral', 'christian', 'christmas', 'classical',\n",
       "       'classicmetal', 'club', 'colombian', 'comedy', 'conjazz',\n",
       "       'contemporary', 'country', 'cuban', 'dance', 'dancehall',\n",
       "       'dancepop', 'dark', 'death', 'deep', 'deutschrock', 'deutschspr',\n",
       "       'dirty', 'disco', 'dnb', 'documentary', 'downbeat', 'downtempo',\n",
       "       'drum', 'dub', 'dubstep', 'eastern', 'easy', 'electronic',\n",
       "       'electropop', 'emo', 'entehno', 'epicmetal', 'estrada', 'ethnic',\n",
       "       'eurofolk', 'european', 'experimental', 'extrememetal', 'fado',\n",
       "       'fairytail', 'film', 'fitness', 'flamenco', 'folk', 'folklore',\n",
       "       'folkmetal', 'folkrock', 'folktronica', 'forró', 'frankreich',\n",
       "       'französisch', 'french', 'funk', 'future', 'gangsta', 'garage',\n",
       "       'german', 'ghazal', 'gitarre', 'glitch', 'gospel', 'gothic',\n",
       "       'grime', 'grunge', 'gypsy', 'handsup', \"hard'n'heavy\", 'hardcore',\n",
       "       'hardstyle', 'hardtechno', 'hip', 'hip-hop', 'hiphop',\n",
       "       'historisch', 'holiday', 'hop', 'horror', 'house', 'hymn', 'idm',\n",
       "       'independent', 'indian', 'indie', 'indipop', 'industrial',\n",
       "       'inspirational', 'instrumental', 'international', 'irish', 'jam',\n",
       "       'japanese', 'jazz', 'jewish', 'jpop', 'jungle', 'k-pop',\n",
       "       'karadeniz', 'karaoke', 'kayokyoku', 'korean', 'laiko', 'latin',\n",
       "       'latino', 'leftfield', 'local', 'lounge', 'loungeelectronic',\n",
       "       'lovers', 'malaysian', 'mandopop', 'marschmusik', 'meditative',\n",
       "       'mediterranean', 'melodic', 'metal', 'metalcore', 'mexican',\n",
       "       'middle', 'minimal', 'miscellaneous', 'modern', 'mood', 'mpb',\n",
       "       'muslim', 'native', 'neoklassik', 'neue', 'new', 'newage',\n",
       "       'newwave', 'nu', 'nujazz', 'numetal', 'oceania', 'old', 'opera',\n",
       "       'orchestral', 'other', 'piano', 'podcasts', 'pop', 'popdance',\n",
       "       'popelectronic', 'popeurodance', 'poprussian', 'post',\n",
       "       'posthardcore', 'postrock', 'power', 'progmetal', 'progressive',\n",
       "       'psychedelic', 'punjabi', 'punk', 'quebecois', 'ragga', 'ram',\n",
       "       'rancheras', 'rap', 'rave', 'reggae', 'reggaeton', 'regional',\n",
       "       'relax', 'religious', 'retro', 'rhythm', 'rnb', 'rnr', 'rock',\n",
       "       'rockabilly', 'rockalternative', 'rockindie', 'rockother',\n",
       "       'romance', 'roots', 'ruspop', 'rusrap', 'rusrock', 'russian',\n",
       "       'salsa', 'samba', 'scenic', 'schlager', 'self', 'sertanejo',\n",
       "       'shanson', 'shoegazing', 'showtunes', 'singer', 'ska', 'skarock',\n",
       "       'slow', 'smooth', 'soft', 'soul', 'soulful', 'sound', 'soundtrack',\n",
       "       'southern', 'specialty', 'speech', 'spiritual', 'sport',\n",
       "       'stonerrock', 'surf', 'swing', 'synthpop', 'synthrock',\n",
       "       'sängerportrait', 'tango', 'tanzorchester', 'taraftar', 'tatar',\n",
       "       'tech', 'techno', 'teen', 'thrash', 'top', 'traditional',\n",
       "       'tradjazz', 'trance', 'tribal', 'trip', 'triphop', 'tropical',\n",
       "       'türk', 'türkçe', 'ukrrock', 'unknown', 'urban', 'uzbek',\n",
       "       'variété', 'vi', 'videogame', 'vocal', 'western', 'world',\n",
       "       'worldbeat', 'ïîï', 'электроника'], dtype=object)"
      ]
     },
     "execution_count": 16,
     "metadata": {},
     "output_type": "execute_result"
    }
   ],
   "source": [
    "# Checking for implicit duplicates\n",
    "sorted_values_list.sort_values().unique()"
   ]
  },
  {
   "cell_type": "markdown",
   "id": "e377478a",
   "metadata": {},
   "source": [
    "**4.4 Summary**\n",
    "1. The preprocessing stage identified three data issues:\n",
    "   - Header style inconsistencies,\n",
    "   - Missing values,\n",
    "   - Duplicates - both explicit and implicit.\n",
    "2. Header corrections were implemented for enhanced table manipulation. The removal of duplicates enhances the precision of the study.\n",
    "3. Missing values were uniformly replaced with 'unknown'. The impact of gaps in the 'genre' column on the research outcome remains to be examined.\n"
   ]
  },
  {
   "cell_type": "markdown",
   "id": "eb4e5b3a",
   "metadata": {},
   "source": [
    "## 5. Hypothesis Testing"
   ]
  },
  {
   "cell_type": "markdown",
   "id": "4a2d3070",
   "metadata": {},
   "source": [
    "### 5.1 First Hypothesis: Distinct Music Listening Patterns in Moscow and St. Petersburg"
   ]
  },
  {
   "cell_type": "markdown",
   "id": "18dfe6ca",
   "metadata": {},
   "source": [
    "The initial hypothesis suggests that users exhibit diverse music listening behaviors in Moscow and St. Petersburg. To validate this assumption, an analysis will be conducted using data from three specific weekdays—Monday, Wednesday, and Friday. The approach involves:\n",
    "- Segregating users based on their location, distinguishing between Moscow and St. Petersburg.\n",
    "- Comparing the quantity of tracks listened to by each user group on Monday, Wednesday, and Friday."
   ]
  },
  {
   "cell_type": "markdown",
   "id": "4704ed72",
   "metadata": {},
   "source": [
    "**5.1.1 City-Wise Music Listening Analysis:**"
   ]
  },
  {
   "cell_type": "code",
   "execution_count": 17,
   "id": "ff4f483e",
   "metadata": {},
   "outputs": [
    {
     "data": {
      "text/plain": [
       "city\n",
       "Moscow              42741\n",
       "Saint-Petersburg    18512\n",
       "Name: genre, dtype: int64"
      ]
     },
     "execution_count": 17,
     "metadata": {},
     "output_type": "execute_result"
    }
   ],
   "source": [
    "# Count listens in each city\n",
    "df.groupby('city')['genre'].count()"
   ]
  },
  {
   "cell_type": "markdown",
   "id": "d519f91a",
   "metadata": {},
   "source": [
    "Moscow exhibits a higher number of listens compared to St. Petersburg. However, this disparity doesn't necessarily indicate that Moscow users listen to music more frequently — it is attributed to a larger user base in Moscow."
   ]
  },
  {
   "cell_type": "markdown",
   "id": "e8fe834a",
   "metadata": {},
   "source": [
    "**5.1.2 Day-wise Listening Analysis:**"
   ]
  },
  {
   "cell_type": "code",
   "execution_count": 18,
   "id": "ff5d3b61",
   "metadata": {},
   "outputs": [
    {
     "data": {
      "text/plain": [
       "day\n",
       "Friday       21840\n",
       "Monday       21354\n",
       "Wednesday    18059\n",
       "Name: genre, dtype: int64"
      ]
     },
     "execution_count": 18,
     "metadata": {},
     "output_type": "execute_result"
    }
   ],
   "source": [
    "# Count listens on each of the three days\n",
    "df.groupby('day')['genre'].count()"
   ]
  },
  {
   "cell_type": "markdown",
   "id": "968a8827",
   "metadata": {},
   "source": [
    "On average, users from both cities display reduced activity on Wednesdays. A deeper understanding can be gained by examining each city independently."
   ]
  },
  {
   "cell_type": "markdown",
   "id": "a703cd7c",
   "metadata": {},
   "source": [
    "**5.1.3 Function Creation:**"
   ]
  },
  {
   "cell_type": "markdown",
   "id": "6e5dd865",
   "metadata": {},
   "source": [
    "Create the `number_tracks()` function. This function calculates listens for a specified day and city, taking two parameters:\n",
    "- The day of the week\n",
    "- The city name"
   ]
  },
  {
   "cell_type": "markdown",
   "id": "0c0b26a8",
   "metadata": {},
   "source": [
    "The function employs sequential filtering and logical indexing to extract relevant data. It then counts the values in the `user_id` column and returns the result."
   ]
  },
  {
   "cell_type": "code",
   "execution_count": 19,
   "id": "126bf8b6",
   "metadata": {},
   "outputs": [],
   "source": [
    "# Function to calculate listens for a given day and city\n",
    "def number_tracks(day, city):\n",
    "    track_list = df[df['day'] == day]\n",
    "    track_list = track_list[track_list['city'] == city]\n",
    "    track_list_count = track_list['user_id'].count()\n",
    "    return track_list_count"
   ]
  },
  {
   "cell_type": "markdown",
   "id": "8bd52ae2",
   "metadata": {},
   "source": [
    "This function provides a flexible and efficient way to analyze music listens based on specific days and cities."
   ]
  },
  {
   "cell_type": "markdown",
   "id": "d297112b",
   "metadata": {},
   "source": [
    "Call the number_tracks() function six times, varying the parameter values to obtain data for each city on each of the three days:"
   ]
  },
  {
   "cell_type": "code",
   "execution_count": 20,
   "id": "50d44dcc",
   "metadata": {},
   "outputs": [
    {
     "data": {
      "text/plain": [
       "15740"
      ]
     },
     "execution_count": 20,
     "metadata": {},
     "output_type": "execute_result"
    }
   ],
   "source": [
    "# Calling number_tracks() for Moscow on Monday\n",
    "number_tracks('Monday', 'Moscow')"
   ]
  },
  {
   "cell_type": "code",
   "execution_count": 21,
   "id": "d1c218d1",
   "metadata": {},
   "outputs": [
    {
     "data": {
      "text/plain": [
       "11056"
      ]
     },
     "execution_count": 21,
     "metadata": {},
     "output_type": "execute_result"
    }
   ],
   "source": [
    "# Calling number_tracks() for Moscow on Wednesday\n",
    "number_tracks('Wednesday', 'Moscow')"
   ]
  },
  {
   "cell_type": "code",
   "execution_count": 22,
   "id": "109f13d7",
   "metadata": {},
   "outputs": [
    {
     "data": {
      "text/plain": [
       "15945"
      ]
     },
     "execution_count": 22,
     "metadata": {},
     "output_type": "execute_result"
    }
   ],
   "source": [
    "# Calling number_tracks() for Moscow on Friday\n",
    "number_tracks('Friday', 'Moscow')"
   ]
  },
  {
   "cell_type": "code",
   "execution_count": 23,
   "id": "7c3b8ccf",
   "metadata": {},
   "outputs": [
    {
     "data": {
      "text/plain": [
       "5614"
      ]
     },
     "execution_count": 23,
     "metadata": {},
     "output_type": "execute_result"
    }
   ],
   "source": [
    "# Calling number_tracks() for St. Petersburg on Monday\n",
    "number_tracks('Monday', 'Saint-Petersburg')"
   ]
  },
  {
   "cell_type": "code",
   "execution_count": 24,
   "id": "0c8577f5",
   "metadata": {},
   "outputs": [
    {
     "data": {
      "text/plain": [
       "7003"
      ]
     },
     "execution_count": 24,
     "metadata": {},
     "output_type": "execute_result"
    }
   ],
   "source": [
    "# Calling number_tracks() for St. Petersburg on Wednesday\n",
    "number_tracks('Wednesday', 'Saint-Petersburg')"
   ]
  },
  {
   "cell_type": "code",
   "execution_count": 25,
   "id": "063e886a",
   "metadata": {},
   "outputs": [
    {
     "data": {
      "text/plain": [
       "5895"
      ]
     },
     "execution_count": 25,
     "metadata": {},
     "output_type": "execute_result"
    }
   ],
   "source": [
    "# Calling number_tracks() for St. Petersburg on Friday\n",
    "number_tracks('Friday', 'Saint-Petersburg')"
   ]
  },
  {
   "cell_type": "markdown",
   "id": "8b9686b3",
   "metadata": {},
   "source": [
    "These calls will give the number of listens for each city on each of the three days of the week. These values can be used for further analysis or visualization as needed."
   ]
  },
  {
   "cell_type": "markdown",
   "id": "fe60f90a",
   "metadata": {},
   "source": [
    "Create a table using the pd.DataFrame constructor, where:\n",
    "- Column names are `['city', 'monday', 'wednesday', 'friday']`.\n",
    "- Data consists of the results obtained using number_tracks."
   ]
  },
  {
   "cell_type": "code",
   "execution_count": 26,
   "id": "f5407590",
   "metadata": {},
   "outputs": [
    {
     "data": {
      "text/html": [
       "<div>\n",
       "<style scoped>\n",
       "    .dataframe tbody tr th:only-of-type {\n",
       "        vertical-align: middle;\n",
       "    }\n",
       "\n",
       "    .dataframe tbody tr th {\n",
       "        vertical-align: top;\n",
       "    }\n",
       "\n",
       "    .dataframe thead th {\n",
       "        text-align: right;\n",
       "    }\n",
       "</style>\n",
       "<table border=\"1\" class=\"dataframe\">\n",
       "  <thead>\n",
       "    <tr style=\"text-align: right;\">\n",
       "      <th></th>\n",
       "      <th>city</th>\n",
       "      <th>monday</th>\n",
       "      <th>wednesday</th>\n",
       "      <th>friday</th>\n",
       "    </tr>\n",
       "  </thead>\n",
       "  <tbody>\n",
       "    <tr>\n",
       "      <th>0</th>\n",
       "      <td>Moscow</td>\n",
       "      <td>15740</td>\n",
       "      <td>11056</td>\n",
       "      <td>15945</td>\n",
       "    </tr>\n",
       "    <tr>\n",
       "      <th>1</th>\n",
       "      <td>St. Petersburg</td>\n",
       "      <td>5614</td>\n",
       "      <td>7003</td>\n",
       "      <td>5895</td>\n",
       "    </tr>\n",
       "  </tbody>\n",
       "</table>\n",
       "</div>"
      ],
      "text/plain": [
       "             city  monday  wednesday  friday\n",
       "0          Moscow   15740      11056   15945\n",
       "1  St. Petersburg    5614       7003    5895"
      ]
     },
     "execution_count": 26,
     "metadata": {},
     "output_type": "execute_result"
    }
   ],
   "source": [
    "# Table with results\n",
    "info = pd.DataFrame(data=[['Moscow', 15740, 11056, 15945], ['St. Petersburg', 5614, 7003, 5895]], columns=['city', 'monday', 'wednesday', 'friday'])\n",
    "info "
   ]
  },
  {
   "cell_type": "markdown",
   "id": "d38a5f94",
   "metadata": {},
   "source": [
    "**5.1.3 Summary:**\n",
    "\n",
    "1. The data reveals differences in user behavior:\n",
    "   - In Moscow, the peak of listens occurs on Monday and Friday, with a noticeable decline on Wednesday\n",
    "   - In St. Petersburg, conversely, more music is listened to on Wednesdays\n",
    "   - Activity on Monday and Friday is nearly equally distributed and lower compared to Wednesday\n",
    "2. Thus, the data supports the first hypothesis"
   ]
  },
  {
   "cell_type": "markdown",
   "id": "1cb4bbbd",
   "metadata": {},
   "source": [
    "### 5.2 Second Hypothesis: Music Trends at the Beginning and End of the Week"
   ]
  },
  {
   "cell_type": "markdown",
   "id": "7e0ed4e0",
   "metadata": {},
   "source": [
    "According to the second hypothesis, different genres dominate music listening in Moscow and St. Petersburg on Monday mornings and Friday evenings. Let's store the data in two variables:\n",
    "- For Moscow — moscow_general\n",
    "- For St. Petersburg — spb_general"
   ]
  },
  {
   "cell_type": "code",
   "execution_count": 27,
   "id": "cae48b2f",
   "metadata": {},
   "outputs": [],
   "source": [
    "# Creating moscow_general from rows in df where the 'city' column equals 'Moscow'\n",
    "moscow_general = df[df['city'] == 'Moscow']\n",
    "\n",
    "# Creating spb_general from rows in df where the 'city' column equals 'Saint-Petersburg'\n",
    "spb_general = df[df['city'] == 'Saint-Petersburg']"
   ]
  },
  {
   "cell_type": "markdown",
   "id": "8c278b9f",
   "metadata": {},
   "source": [
    "Create the `genre_weekday()` function with four parameters:\n",
    "\n",
    "- The dataframe with data\n",
    "- The day of the week\n",
    "- The start time in the 'hh:mm' format\n",
    "- The end time in the 'hh:mm' format\n",
    "   \n",
    "The function should return information about the top 10 genres of tracks listened to on the specified day, between the two given time labels."
   ]
  },
  {
   "cell_type": "code",
   "execution_count": 28,
   "id": "6219484e",
   "metadata": {},
   "outputs": [],
   "source": [
    "def genre_weekday(df, day, time1, time2):\n",
    "    # Sequential filtering\n",
    "    genre_df = df[df['day'] == day]\n",
    "    genre_df = genre_df[genre_df['time'] < time2]\n",
    "    genre_df = genre_df[genre_df['time'] > time1]\n",
    "    genre_df_grouped = genre_df.groupby('genre')['genre'].count()\n",
    "    genre_df_sorted = genre_df_grouped.sort_values(ascending=False)\n",
    "    return genre_df_sorted[:10]"
   ]
  },
  {
   "cell_type": "markdown",
   "id": "b2c392fb",
   "metadata": {},
   "source": [
    "Compare the results of the genre_weekday() function for Moscow and St. Petersburg on Monday mornings (from 7:00 to 11:00) and Friday evenings (from 17:00 to 23:00)."
   ]
  },
  {
   "cell_type": "code",
   "execution_count": 29,
   "id": "050218e7",
   "metadata": {},
   "outputs": [
    {
     "data": {
      "text/plain": [
       "genre\n",
       "pop            781\n",
       "dance          549\n",
       "electronic     480\n",
       "rock           474\n",
       "hiphop         286\n",
       "ruspop         186\n",
       "world          181\n",
       "rusrap         175\n",
       "alternative    164\n",
       "unknown        161\n",
       "Name: genre, dtype: int64"
      ]
     },
     "execution_count": 29,
     "metadata": {},
     "output_type": "execute_result"
    }
   ],
   "source": [
    "# Calling the function for Monday morning in Moscow (using moscow_general instead of df)\n",
    "genre_weekday(moscow_general, 'Monday', '07:00', '11:00')"
   ]
  },
  {
   "cell_type": "code",
   "execution_count": 30,
   "id": "cb51c23d",
   "metadata": {},
   "outputs": [
    {
     "data": {
      "text/plain": [
       "genre\n",
       "pop            218\n",
       "dance          182\n",
       "rock           162\n",
       "electronic     147\n",
       "hiphop          80\n",
       "ruspop          64\n",
       "alternative     58\n",
       "rusrap          55\n",
       "jazz            44\n",
       "classical       40\n",
       "Name: genre, dtype: int64"
      ]
     },
     "execution_count": 30,
     "metadata": {},
     "output_type": "execute_result"
    }
   ],
   "source": [
    "# Calling the function for Monday morning in St. Petersburg (using spb_general instead of df)\n",
    "genre_weekday(spb_general, 'Monday', '07:00', '11:00')"
   ]
  },
  {
   "cell_type": "code",
   "execution_count": 31,
   "id": "f9ebaf2c",
   "metadata": {},
   "outputs": [
    {
     "data": {
      "text/plain": [
       "genre\n",
       "pop            713\n",
       "rock           517\n",
       "dance          495\n",
       "electronic     482\n",
       "hiphop         273\n",
       "world          208\n",
       "ruspop         170\n",
       "alternative    163\n",
       "classical      163\n",
       "rusrap         142\n",
       "Name: genre, dtype: int64"
      ]
     },
     "execution_count": 31,
     "metadata": {},
     "output_type": "execute_result"
    }
   ],
   "source": [
    "# Calling the function for Friday evening in Moscow \n",
    "genre_weekday(moscow_general, 'Friday', '17:00', '23:00')"
   ]
  },
  {
   "cell_type": "code",
   "execution_count": 32,
   "id": "e42cb8ee",
   "metadata": {},
   "outputs": [
    {
     "data": {
      "text/plain": [
       "genre\n",
       "pop            256\n",
       "electronic     216\n",
       "rock           216\n",
       "dance          210\n",
       "hiphop          97\n",
       "alternative     63\n",
       "jazz            61\n",
       "classical       60\n",
       "rusrap          59\n",
       "world           54\n",
       "Name: genre, dtype: int64"
      ]
     },
     "execution_count": 32,
     "metadata": {},
     "output_type": "execute_result"
    }
   ],
   "source": [
    "# Calling the function for Friday evening in St. Petersburg\n",
    "genre_weekday(spb_general, 'Friday', '17:00', '23:00')"
   ]
  },
  {
   "cell_type": "markdown",
   "id": "38d14b78",
   "metadata": {},
   "source": [
    "**5.2.1 Summary:**\n",
    "   \n",
    "When comparing the top 10 genres on Monday mornings, the following observations can be made:\n",
    "1. Moscow and St. Petersburg have similar music preferences. The only difference is that the genre \"world\" made it into Moscow's ranking, while jazz and classical entered St. Petersburg's.\n",
    "2. In Moscow, the 'unknown' genre holds the tenth position among the most popular genres due to a significant number of missing values. This indicates that missing values occupy a substantial portion of the data, posing a threat to the study's credibility.\n",
    "3. Friday evening does not alter this pattern significantly. Some genres rise slightly, while others decline, but the overall top 10 remains unchanged."
   ]
  },
  {
   "cell_type": "markdown",
   "id": "923f5c4d",
   "metadata": {},
   "source": [
    "Thus, the second hypothesis is only partially confirmed:\n",
    "- Users listen to similar music at the beginning and end of the week.\n",
    "- The difference between Moscow and St. Petersburg is not very pronounced. Moscow leans more towards Russian pop music, while St. Petersburg tends to favor jazz.\n",
    "- However, the presence of gaps in the data casts doubt on these results. In Moscow, there are so many missing values that the top 10 rankings could look different if genre data were not lost."
   ]
  },
  {
   "cell_type": "markdown",
   "id": "5d9f6dab",
   "metadata": {},
   "source": [
    "### 5.3 Third Hypothesis: Musical Preferences in Moscow and St. Petersburg"
   ]
  },
  {
   "cell_type": "markdown",
   "id": "9db56aea",
   "metadata": {},
   "source": [
    "Hypothesis: St. Petersburg, known as the rap capital, listens to this genre more frequently than Moscow. Meanwhile, Moscow, a city of contrasts, predominantly embraces pop music."
   ]
  },
  {
   "cell_type": "markdown",
   "id": "93f21ba1",
   "metadata": {},
   "source": [
    "- Group the moscow_general table by genre and count the listens for each genre using the `count()` method\n",
    "- Sort the results in descending order and store them in the `moscow_genres table`"
   ]
  },
  {
   "cell_type": "code",
   "execution_count": 33,
   "id": "9550ae98",
   "metadata": {},
   "outputs": [],
   "source": [
    "# One-liner: Grouping the moscow_general table by the 'genre' column, \n",
    "# counting the number of 'genre' values in this grouping using the count() method, \n",
    "# sorting the resulting Series in descending order, and saving it to moscow_genres\n",
    "moscow_genres = moscow_general.groupby('genre')['genre'].count().sort_values(ascending=False)"
   ]
  },
  {
   "cell_type": "markdown",
   "id": "f90963b9",
   "metadata": {},
   "source": [
    "Display the first ten rows of `moscow_genres`:"
   ]
  },
  {
   "cell_type": "code",
   "execution_count": 34,
   "id": "20025b21",
   "metadata": {},
   "outputs": [
    {
     "data": {
      "text/plain": [
       "genre\n",
       "pop            5892\n",
       "dance          4435\n",
       "rock           3965\n",
       "electronic     3786\n",
       "hiphop         2096\n",
       "classical      1616\n",
       "world          1432\n",
       "alternative    1379\n",
       "ruspop         1372\n",
       "rusrap         1161\n",
       "Name: genre, dtype: int64"
      ]
     },
     "execution_count": 34,
     "metadata": {},
     "output_type": "execute_result"
    }
   ],
   "source": [
    "# Displaying the first 10 rows of moscow_genres\n",
    "moscow_genres.head(10)"
   ]
  },
  {
   "cell_type": "markdown",
   "id": "102e6e6e",
   "metadata": {},
   "source": [
    "Repeat the process for St. Petersburg:\n",
    "- Group the spb_general table by genre\n",
    "- Count the listens for each genre\n",
    "- Sort the results in descending order\n",
    "- Store them in the `spb_genres table`"
   ]
  },
  {
   "cell_type": "code",
   "execution_count": 35,
   "id": "76bf7f4a",
   "metadata": {},
   "outputs": [],
   "source": [
    "# One-liner: Grouping the spb_general table by the 'genre' column, \n",
    "# counting the number of 'genre' values in this grouping using the count() method, \n",
    "# sorting the resulting Series in descending order, and saving it to spb_genres\n",
    "spb_genres = spb_general.groupby('genre')['genre'].count().sort_values(ascending=False)"
   ]
  },
  {
   "cell_type": "markdown",
   "id": "1ad1fee4",
   "metadata": {},
   "source": [
    "Display the first ten rows of `spb_genres`:"
   ]
  },
  {
   "cell_type": "code",
   "execution_count": 36,
   "id": "869cd227",
   "metadata": {},
   "outputs": [
    {
     "data": {
      "text/plain": [
       "genre\n",
       "pop            2431\n",
       "dance          1932\n",
       "rock           1879\n",
       "electronic     1736\n",
       "hiphop          960\n",
       "alternative     649\n",
       "classical       646\n",
       "rusrap          564\n",
       "ruspop          538\n",
       "world           515\n",
       "Name: genre, dtype: int64"
      ]
     },
     "execution_count": 36,
     "metadata": {},
     "output_type": "execute_result"
    }
   ],
   "source": [
    "# Displaying the first 10 rows of spb_genres\n",
    "spb_genres.head(10)"
   ]
  },
  {
   "cell_type": "markdown",
   "id": "7eb994c6",
   "metadata": {},
   "source": [
    "**5.3.1 Summary:**\n",
    "1. The hypothesis is partially confirmed: Pop music is the most popular genre in Moscow, aligning with the hypothesis. Moreover, the top 10 genres include a related genre — Russian pop music.\n",
    "2. Contrary to expectations, rap is equally popular in both Moscow and St. Petersburg."
   ]
  },
  {
   "cell_type": "markdown",
   "id": "e503c467",
   "metadata": {},
   "source": [
    "## 6. Conclusion"
   ]
  },
  {
   "cell_type": "markdown",
   "id": "e8ac69ca",
   "metadata": {},
   "source": [
    "**Hypotheses Analysis Summary**\n",
    "1. Impact of the Day of the Week\n",
    "The user activity patterns in Moscow and St. Petersburg vary significantly based on the day of the week. This confirms the first hypothesis.\n",
    "2. Stability of Musical Preferences Throughout the Week\n",
    "While overall musical preferences remain relatively stable throughout the week, there are subtle differences on Mondays. In Moscow, there is a preference for the \"world\" genre, while in St. Petersburg, jazz and classical music are more prominent. It's worth noting that this partial confirmation might be influenced by data gaps.\n",
    "3. Comparison of Musical Tastes in Moscow and St. Petersburg\n",
    "Contrary to expectations, the musical tastes of users in St. Petersburg closely resemble those in Moscow. The third hypothesis is not confirmed, suggesting that any differences in preferences are not evident in the broader user base.\n",
    "   \n",
    "**Practical Insights:**\n",
    "* Research findings should be interpreted cautiously, as they may not be representative of the entire population.\n",
    "* Statistical hypothesis testing is crucial for gauging the reliability of conclusions drawn from a specific dataset."
   ]
  }
 ],
 "metadata": {
  "kernelspec": {
   "display_name": "Python 3 (ipykernel)",
   "language": "python",
   "name": "python3"
  },
  "language_info": {
   "codemirror_mode": {
    "name": "ipython",
    "version": 3
   },
   "file_extension": ".py",
   "mimetype": "text/x-python",
   "name": "python",
   "nbconvert_exporter": "python",
   "pygments_lexer": "ipython3",
   "version": "3.9.13"
  }
 },
 "nbformat": 4,
 "nbformat_minor": 5
}
