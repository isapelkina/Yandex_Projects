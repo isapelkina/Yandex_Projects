{
 "cells": [
  {
   "cell_type": "markdown",
   "id": "0e10a87e",
   "metadata": {},
   "source": [
    "# California Adults with Diabetes Per 100 (LGHC Indicator)\n",
    "\n",
    "The following data was published by California Department of Public Health. The dataset could be found visiting the following link: https://catalog.data.gov/dataset/adults-with-diabetes-per-100-lghc-indicator-21f78\n",
    "\n",
    "This is a source dataset for a Let's Get Healthy California indicator at \"https://letsgethealthy.ca.gov/. This table displays the prevalence of diabetes in California. It contains data for California only. The data are from the California Behavioral Risk Factor Surveillance Survey (BRFSS). The California BRFSS is an annual cross-sectional health-related telephone survey that collects data about California residents regarding their health-related risk behaviors, chronic health conditions, and use of preventive services. The BRFSS is conducted by Public Health Survey Research Program of California State University, Sacramento under contract from CDPH. This prevalence rate does not include pre-diabetes, or gestational diabetes. This is based on the question: \"Has a doctor, or nurse or other health professional ever told you that you have diabetes?\" The sample size for 2014 was 8,832. NOTE: Denominator data and weighting was taken from the California Department of Finance, not U.S. Census. Values may therefore differ from what has been published in the national BRFSS data tables by the Centers for Disease Control and Prevention (CDC) or other federal agencies.\n",
    "\n",
    "## Project Description\n",
    "\n",
    "This is a small project dedicated to show the usage of data analitics tools - Jupiter Notebook (Python 3) and Tableau. "
   ]
  },
  {
   "attachments": {},
   "cell_type": "markdown",
   "id": "dee40b48",
   "metadata": {},
   "source": [
    "The data is stored in the file yandex_music_project.csv\n",
    "\n",
    "Column Description:\n",
    "\n",
    "`Geography` - State of California;  \n",
    "`Year` - Data from 2021 to 2018;  \n",
    "`Strata` - Indicators include Total population, Race-Ethnicity, Age, Education, Income, Sex;  \n",
    "`Strata Name` - Indicators include accordingly:   \n",
    "- Total population \n",
    "- White\n",
    "- African-American\n",
    "- Asian\n",
    "- Hispanic\n",
    "- 18 to 34 years\n",
    "- 35 to 44 years\n",
    "- 45 to 54 years\n",
    "- 55 to 64 years\n",
    "- 65 years and above\n",
    "- Less than high school\n",
    "- High school graduate\n",
    "- Some college\n",
    "- College graduate\n",
    "- Less than 15,000\n",
    "- 15,000 to 24,999\n",
    "- 25,000 to 34,999\n",
    "- 35,000 to 49,999\n",
    "- 50,000 and above\n",
    "- Male\n",
    "- Female  \n",
    "   \n",
    "`Percent` - Percent of the population  \n",
    "`Lower 95% CL`\t  \n",
    "`Upper 95% CL`\t  \n",
    "`Standard Error`  "
   ]
  },
  {
   "cell_type": "code",
   "execution_count": 48,
   "id": "a2d745b3",
   "metadata": {},
   "outputs": [],
   "source": [
    "# Import the pandas library\n",
    "import pandas as pd\n",
    "import matplotlib.pyplot as plt "
   ]
  },
  {
   "cell_type": "code",
   "execution_count": 49,
   "id": "6279abec",
   "metadata": {},
   "outputs": [],
   "source": [
    "# Reading the data file and saving it to a DataFrame (df)\n",
    "df = pd.read_csv('adults-with-diabetes-per-100-lghc-indicator-23.csv')"
   ]
  },
  {
   "cell_type": "code",
   "execution_count": 50,
   "id": "506e5bb7",
   "metadata": {},
   "outputs": [
    {
     "data": {
      "text/html": [
       "<div>\n",
       "<style scoped>\n",
       "    .dataframe tbody tr th:only-of-type {\n",
       "        vertical-align: middle;\n",
       "    }\n",
       "\n",
       "    .dataframe tbody tr th {\n",
       "        vertical-align: top;\n",
       "    }\n",
       "\n",
       "    .dataframe thead th {\n",
       "        text-align: right;\n",
       "    }\n",
       "</style>\n",
       "<table border=\"1\" class=\"dataframe\">\n",
       "  <thead>\n",
       "    <tr style=\"text-align: right;\">\n",
       "      <th></th>\n",
       "      <th>Geography</th>\n",
       "      <th>Year</th>\n",
       "      <th>Strata</th>\n",
       "      <th>Strata Name</th>\n",
       "      <th>Percent</th>\n",
       "      <th>Lower 95% CL</th>\n",
       "      <th>Upper 95% CL</th>\n",
       "      <th>Standard Error</th>\n",
       "    </tr>\n",
       "  </thead>\n",
       "  <tbody>\n",
       "    <tr>\n",
       "      <th>0</th>\n",
       "      <td>California</td>\n",
       "      <td>2018</td>\n",
       "      <td>Total population</td>\n",
       "      <td>Total population</td>\n",
       "      <td>10.4</td>\n",
       "      <td>8.9</td>\n",
       "      <td>11.9</td>\n",
       "      <td>0.8</td>\n",
       "    </tr>\n",
       "    <tr>\n",
       "      <th>1</th>\n",
       "      <td>California</td>\n",
       "      <td>2018</td>\n",
       "      <td>Race-Ethnicity</td>\n",
       "      <td>White</td>\n",
       "      <td>8.4</td>\n",
       "      <td>6.9</td>\n",
       "      <td>9.9</td>\n",
       "      <td>0.8</td>\n",
       "    </tr>\n",
       "    <tr>\n",
       "      <th>2</th>\n",
       "      <td>California</td>\n",
       "      <td>2018</td>\n",
       "      <td>Race-Ethnicity</td>\n",
       "      <td>African-American</td>\n",
       "      <td>12.3</td>\n",
       "      <td>6.0</td>\n",
       "      <td>18.6</td>\n",
       "      <td>3.2</td>\n",
       "    </tr>\n",
       "    <tr>\n",
       "      <th>3</th>\n",
       "      <td>California</td>\n",
       "      <td>2018</td>\n",
       "      <td>Race-Ethnicity</td>\n",
       "      <td>Asian</td>\n",
       "      <td>8.5</td>\n",
       "      <td>3.2</td>\n",
       "      <td>13.9</td>\n",
       "      <td>2.7</td>\n",
       "    </tr>\n",
       "    <tr>\n",
       "      <th>4</th>\n",
       "      <td>California</td>\n",
       "      <td>2018</td>\n",
       "      <td>Race-Ethnicity</td>\n",
       "      <td>Hispanic</td>\n",
       "      <td>12.1</td>\n",
       "      <td>9.0</td>\n",
       "      <td>15.1</td>\n",
       "      <td>1.6</td>\n",
       "    </tr>\n",
       "    <tr>\n",
       "      <th>5</th>\n",
       "      <td>California</td>\n",
       "      <td>2018</td>\n",
       "      <td>Age</td>\n",
       "      <td>18 to 34 years</td>\n",
       "      <td>4.0</td>\n",
       "      <td>0.8</td>\n",
       "      <td>7.2</td>\n",
       "      <td>1.6</td>\n",
       "    </tr>\n",
       "    <tr>\n",
       "      <th>6</th>\n",
       "      <td>California</td>\n",
       "      <td>2018</td>\n",
       "      <td>Age</td>\n",
       "      <td>35 to 44 years</td>\n",
       "      <td>5.1</td>\n",
       "      <td>1.9</td>\n",
       "      <td>8.3</td>\n",
       "      <td>1.6</td>\n",
       "    </tr>\n",
       "    <tr>\n",
       "      <th>7</th>\n",
       "      <td>California</td>\n",
       "      <td>2018</td>\n",
       "      <td>Age</td>\n",
       "      <td>45 to 54 years</td>\n",
       "      <td>11.6</td>\n",
       "      <td>8.2</td>\n",
       "      <td>15.0</td>\n",
       "      <td>1.7</td>\n",
       "    </tr>\n",
       "    <tr>\n",
       "      <th>8</th>\n",
       "      <td>California</td>\n",
       "      <td>2018</td>\n",
       "      <td>Age</td>\n",
       "      <td>55 to 64 years</td>\n",
       "      <td>17.7</td>\n",
       "      <td>14.2</td>\n",
       "      <td>21.2</td>\n",
       "      <td>1.8</td>\n",
       "    </tr>\n",
       "    <tr>\n",
       "      <th>9</th>\n",
       "      <td>California</td>\n",
       "      <td>2018</td>\n",
       "      <td>Age</td>\n",
       "      <td>65 years and above</td>\n",
       "      <td>22.4</td>\n",
       "      <td>19.5</td>\n",
       "      <td>25.3</td>\n",
       "      <td>1.5</td>\n",
       "    </tr>\n",
       "  </tbody>\n",
       "</table>\n",
       "</div>"
      ],
      "text/plain": [
       "    Geography  Year            Strata         Strata Name  Percent  \\\n",
       "0  California  2018  Total population    Total population     10.4   \n",
       "1  California  2018    Race-Ethnicity               White      8.4   \n",
       "2  California  2018    Race-Ethnicity    African-American     12.3   \n",
       "3  California  2018    Race-Ethnicity               Asian      8.5   \n",
       "4  California  2018    Race-Ethnicity            Hispanic     12.1   \n",
       "5  California  2018               Age      18 to 34 years      4.0   \n",
       "6  California  2018               Age      35 to 44 years      5.1   \n",
       "7  California  2018               Age      45 to 54 years     11.6   \n",
       "8  California  2018               Age      55 to 64 years     17.7   \n",
       "9  California  2018               Age  65 years and above     22.4   \n",
       "\n",
       "   Lower 95% CL  Upper 95% CL  Standard Error  \n",
       "0           8.9          11.9             0.8  \n",
       "1           6.9           9.9             0.8  \n",
       "2           6.0          18.6             3.2  \n",
       "3           3.2          13.9             2.7  \n",
       "4           9.0          15.1             1.6  \n",
       "5           0.8           7.2             1.6  \n",
       "6           1.9           8.3             1.6  \n",
       "7           8.2          15.0             1.7  \n",
       "8          14.2          21.2             1.8  \n",
       "9          19.5          25.3             1.5  "
      ]
     },
     "execution_count": 50,
     "metadata": {},
     "output_type": "execute_result"
    }
   ],
   "source": [
    "# Display the first ten rows of the table on the screen:\n",
    "df.head(10)"
   ]
  },
  {
   "cell_type": "code",
   "execution_count": 51,
   "id": "740cac85",
   "metadata": {},
   "outputs": [
    {
     "name": "stdout",
     "output_type": "stream",
     "text": [
      "<class 'pandas.core.frame.DataFrame'>\n",
      "RangeIndex: 147 entries, 0 to 146\n",
      "Data columns (total 8 columns):\n",
      " #   Column          Non-Null Count  Dtype  \n",
      "---  ------          --------------  -----  \n",
      " 0   Geography       147 non-null    object \n",
      " 1   Year            147 non-null    int64  \n",
      " 2   Strata          147 non-null    object \n",
      " 3   Strata Name     147 non-null    object \n",
      " 4   Percent         147 non-null    float64\n",
      " 5   Lower 95% CL    147 non-null    float64\n",
      " 6   Upper 95% CL    147 non-null    float64\n",
      " 7   Standard Error  147 non-null    float64\n",
      "dtypes: float64(4), int64(1), object(3)\n",
      "memory usage: 9.3+ KB\n"
     ]
    }
   ],
   "source": [
    "# Obtain general information about the table with a single command using the info() method:\n",
    "df.info()"
   ]
  },
  {
   "cell_type": "code",
   "execution_count": 52,
   "id": "2998360e",
   "metadata": {},
   "outputs": [
    {
     "data": {
      "text/plain": [
       "Geography         0\n",
       "Year              0\n",
       "Strata            0\n",
       "Strata Name       0\n",
       "Percent           0\n",
       "Lower 95% CL      0\n",
       "Upper 95% CL      0\n",
       "Standard Error    0\n",
       "dtype: int64"
      ]
     },
     "execution_count": 52,
     "metadata": {},
     "output_type": "execute_result"
    }
   ],
   "source": [
    "# Counting missing values\n",
    "df.isnull().sum()"
   ]
  },
  {
   "cell_type": "code",
   "execution_count": 53,
   "id": "525ed7be",
   "metadata": {},
   "outputs": [
    {
     "data": {
      "text/plain": [
       "0"
      ]
     },
     "execution_count": 53,
     "metadata": {},
     "output_type": "execute_result"
    }
   ],
   "source": [
    "# Counting explicit duplicates\n",
    "df.duplicated().sum()"
   ]
  },
  {
   "cell_type": "markdown",
   "id": "9be64a69",
   "metadata": {},
   "source": [
    "From the Data information we can see how many rows are in the dataset, if any data from cells is missing, what type of teh data - object (words), integers, float (non-integer). As we can see, there is no missing values or dublicates in the dataset."
   ]
  },
  {
   "cell_type": "code",
   "execution_count": 54,
   "id": "94e42721",
   "metadata": {},
   "outputs": [
    {
     "data": {
      "image/png": "[encoded data removed]",
      "text/plain": [
       "<Figure size 1500x2000 with 6 Axes>"
      ]
     },
     "metadata": {},
     "output_type": "display_data"
    }
   ],
   "source": [
    "df.hist(figsize=(15, 20));"
   ]
  },
  {
   "cell_type": "markdown",
   "id": "47c38380",
   "metadata": {},
   "source": [
    "The following visualization is done in Tableau:"
   ]
  },
  {
   "cell_type": "markdown",
   "id": "8de04b8f",
   "metadata": {},
   "source": [
    "![Tableau](Tableau.png)\n"
   ]
  },
  {
   "cell_type": "code",
   "execution_count": null,
   "id": "b427b5d6",
   "metadata": {},
   "outputs": [],
   "source": []
  },
  {
   "cell_type": "code",
   "execution_count": null,
   "id": "c4ec7e94",
   "metadata": {},
   "outputs": [],
   "source": []
  },
  {
   "cell_type": "code",
   "execution_count": null,
   "id": "3f06a3ad",
   "metadata": {},
   "outputs": [],
   "source": []
  }
 ],
 "metadata": {
  "kernelspec": {
   "display_name": "Python 3 (ipykernel)",
   "language": "python",
   "name": "python3"
  },
  "language_info": {
   "codemirror_mode": {
    "name": "ipython",
    "version": 3
   },
   "file_extension": ".py",
   "mimetype": "text/x-python",
   "name": "python",
   "nbconvert_exporter": "python",
   "pygments_lexer": "ipython3",
   "version": "3.9.13"
  }
 },
 "nbformat": 4,
 "nbformat_minor": 5
}
